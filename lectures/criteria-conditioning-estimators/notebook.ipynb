{
 "cells": [
  {
   "cell_type": "code",
   "execution_count": 1,
   "metadata": {
    "nbsphinx": "hidden",
    "slideshow": {
     "slide_type": "skip"
    }
   },
   "outputs": [],
   "source": [
    "import scipy.stats as stats\n",
    "import seaborn as sns\n",
    "import pandas as pd\n",
    "import numpy as np"
   ]
  },
  {
   "cell_type": "markdown",
   "metadata": {
    "slideshow": {
     "slide_type": "slide"
    }
   },
   "source": [
    "# Models of causal exposure and identification criteria for conditioning estimators"
   ]
  },
  {
   "cell_type": "markdown",
   "metadata": {
    "slideshow": {
     "slide_type": "-"
    }
   },
   "source": [
    "### Introduction"
   ]
  },
  {
   "cell_type": "markdown",
   "metadata": {},
   "source": [
    "**Approaches to the estimation of causal effects**\n",
    "\n",
    "* conditioning on variable that block all back-door paths from the causal variable to the outcome variable\n",
    "\n",
    "* using exogenous variation in an appropriate instrumental variable to isolate covariation in the causal variable and the outcome variable\n",
    "\n",
    "* establishing the exhaustive and isolated mechanism that intercepts the effect of the causal variable on the outcome variable and then calculating the causal effect as it propagates through the mechanisms"
   ]
  },
  {
   "cell_type": "markdown",
   "metadata": {},
   "source": [
    "### Conditioning and directed graphs"
   ]
  },
  {
   "cell_type": "markdown",
   "metadata": {
    "slideshow": {
     "slide_type": "slide"
    }
   },
   "source": [
    "<img src=\"material/fig-backdoor-path.png\" width=\"300\" />\n",
    "\n",
    "This graph is an example where a simple mean-comparison between the treated and untreated is not informative on the effect of the treatment.\n",
    "Why?\n",
    "\n",
    "* The total association between $D$ and $Y$ is an unknown composite of the true causal effect $D \\rightarrow Y$ and the noncausal association between $D$ and $Y$.\n",
    "\n",
    "**Conditioning strategies**\n",
    "\n",
    "* balancing the determinants of treatment assignment (e.g. matching estimators)\n",
    "\n",
    "* adjusting for all other causes of the outcome (e.g. regression estimators)\n",
    "\n",
    "**Small excourse -  Matching estimators**\n",
    "\n",
    "A challenge with many observational studies for obtaining causal effect is self-selection — in many cases, people choose to receive treatment for some reasons, and consequently, the treated people cannot be directly compared with the untreated people. For instance, students from rich families might be more likely to choose to attend private college. If we wish to know the causal effect of attending private college on earnings, we shall rule out (or control) the effect of family background.\n",
    "Matching estimator has been widely used across disciplines. It is a quasi-experimental method that aims to search for counterfactual unit that is comparable with the treated unit among many untreated units.\n",
    "\n",
    "\n",
    "**Back-door path**\n",
    "\n",
    "A back-door path is a path between any causally ordered sequence of two variables that begins with a directed edge that points to the first variable.\n",
    "\n",
    "\n",
    "**LaLonde dataset**\n",
    "\n",
    "What was the graph behind our analysis of the Lalonde dataset?\n",
    "\n",
    "<img src=\"material/fig-implicit-lalonde.png\" width=\"500\" />"
   ]
  },
  {
   "cell_type": "markdown",
   "metadata": {},
   "source": [
    "#### Illustration of collider variables"
   ]
  },
  {
   "attachments": {
    "image.png": {
     "image/png": "[encoded data removed]"
    }
   },
   "cell_type": "markdown",
   "metadata": {
    "slideshow": {
     "slide_type": "slide"
    }
   },
   "source": [
    "#### Small recap - collider variable\n",
    "\n",
    "* A variable is a collider when it is causally influenced by two or more variables.\n",
    "\n",
    "![image.png](attachment:image.png)\n",
    "* The result of having a collider in the path is that the collider blocks the association between the variables that influence it.\n",
    "* A collider does not generate an unconditional association between the variables that determine it.\n",
    "* In causal graphs, conditioning on the collider opens the path between X and Y. This will introduce bias when estimating the causal association between X and Y, potentially introducing associations where there are none.\n",
    "\n",
    "\n",
    "They will play a very important role going forward and thus we study in an illustration how conditioning on a **collider** induces a conditional association between two variables without an unconditional association.\n",
    "\n",
    "<img src=\"material/fig-collider-variable.png\" width=\"500\" />"
   ]
  },
  {
   "cell_type": "markdown",
   "metadata": {},
   "source": [
    "### Pearsons correlation coefficient\n",
    "\n",
    "* Pearson's correlation coefficient is the covariance of the two variables divided by the product of their standard deviations. \n",
    "* As with covariance itself, the measure can only reflect a linear correlation of variables, and ignores many other types of relationship or correlation. \n",
    "* As a simple example, one would expect the age and height of a sample of teenagers from a high school to have a Pearson correlation coefficient significantly greater than 0, but less than 1 (as 1 would represent an unrealistically perfect correlation)."
   ]
  },
  {
   "cell_type": "code",
   "execution_count": 3,
   "metadata": {},
   "outputs": [
    {
     "data": {
      "text/html": [
       "<div>\n",
       "<style scoped>\n",
       "    .dataframe tbody tr th:only-of-type {\n",
       "        vertical-align: middle;\n",
       "    }\n",
       "\n",
       "    .dataframe tbody tr th {\n",
       "        vertical-align: top;\n",
       "    }\n",
       "\n",
       "    .dataframe thead th {\n",
       "        text-align: right;\n",
       "    }\n",
       "</style>\n",
       "<table border=\"1\" class=\"dataframe\">\n",
       "  <thead>\n",
       "    <tr style=\"text-align: right;\">\n",
       "      <th></th>\n",
       "      <th>SAT</th>\n",
       "      <th>motivation</th>\n",
       "      <th>admission</th>\n",
       "    </tr>\n",
       "  </thead>\n",
       "  <tbody>\n",
       "    <tr>\n",
       "      <th>0</th>\n",
       "      <td>2.830560</td>\n",
       "      <td>-0.929661</td>\n",
       "      <td>True</td>\n",
       "    </tr>\n",
       "    <tr>\n",
       "      <th>1</th>\n",
       "      <td>0.665431</td>\n",
       "      <td>0.428708</td>\n",
       "      <td>False</td>\n",
       "    </tr>\n",
       "    <tr>\n",
       "      <th>2</th>\n",
       "      <td>0.571702</td>\n",
       "      <td>-2.467653</td>\n",
       "      <td>False</td>\n",
       "    </tr>\n",
       "    <tr>\n",
       "      <th>3</th>\n",
       "      <td>-0.209485</td>\n",
       "      <td>-0.214135</td>\n",
       "      <td>False</td>\n",
       "    </tr>\n",
       "    <tr>\n",
       "      <th>4</th>\n",
       "      <td>0.910791</td>\n",
       "      <td>-0.008814</td>\n",
       "      <td>False</td>\n",
       "    </tr>\n",
       "  </tbody>\n",
       "</table>\n",
       "</div>"
      ],
      "text/plain": [
       "        SAT  motivation  admission\n",
       "0  2.830560   -0.929661       True\n",
       "1  0.665431    0.428708      False\n",
       "2  0.571702   -2.467653      False\n",
       "3 -0.209485   -0.214135      False\n",
       "4  0.910791   -0.008814      False"
      ]
     },
     "execution_count": 3,
     "metadata": {},
     "output_type": "execute_result"
    }
   ],
   "source": [
    "num_individuals = 250\n",
    "\n",
    "# Initialize empty data frame\n",
    "columns = [\"SAT\", \"motivation\", \"admission\"]\n",
    "df = pd.DataFrame(columns=columns, index=range(num_individuals))\n",
    "\n",
    "df[\"motivation\"] = np.random.normal(size=num_individuals)\n",
    "df[\"SAT\"] = np.random.normal(size=num_individuals)\n",
    "\n",
    "# Both toghether determine college admission\n",
    "score = df[\"motivation\"] + df[\"SAT\"]\n",
    "cutoff = np.percentile(df[\"motivation\"] + df[\"SAT\"], 85)\n",
    "df[\"admission\"] = score > cutoff\n",
    "df.head()"
   ]
  },
  {
   "cell_type": "code",
   "execution_count": 10,
   "metadata": {
    "slideshow": {
     "slide_type": "slide"
    }
   },
   "outputs": [
    {
     "name": "stderr",
     "output_type": "stream",
     "text": [
      "C:\\Users\\Jonathan\\anaconda3\\lib\\site-packages\\seaborn\\_decorators.py:36: FutureWarning: Pass the following variables as keyword args: x, y. From version 0.12, the only valid positional argument will be `data`, and passing other arguments without an explicit keyword will result in an error or misinterpretation.\n",
      "  warnings.warn(\n"
     ]
    },
    {
     "name": "stdout",
     "output_type": "stream",
     "text": [
      "The Pearson correlation coefficient is   0.046\n"
     ]
    },
    {
     "data": {
      "image/png": "[encoded data removed]",
      "text/plain": [
       "<Figure size 432x432 with 3 Axes>"
      ]
     },
     "metadata": {
      "needs_background": "light"
     },
     "output_type": "display_data"
    }
   ],
   "source": [
    "def get_joint_distribution(df):\n",
    "    sns.jointplot(\"SAT\", \"motivation\", data = df)\n",
    "\n",
    "    stat = stats.pearsonr(df[\"SAT\"], df[\"motivation\"])[0]\n",
    "    print(f\"The Pearson correlation coefficient is {stat:7.3f}\")\n",
    "\n",
    "\n",
    "get_joint_distribution(df)"
   ]
  },
  {
   "cell_type": "markdown",
   "metadata": {
    "slideshow": {
     "slide_type": "slide"
    }
   },
   "source": [
    "What happens if we condition on college admittance $C$, i.e. on a collider variable?\n",
    "\n",
    "In the following we are conditioning on admission == True, so we are just looking at the indicidauls that got admission and will see how the joint distribution of SAT and motivation looks like:"
   ]
  },
  {
   "cell_type": "code",
   "execution_count": 11,
   "metadata": {},
   "outputs": [
    {
     "data": {
      "text/html": [
       "<div>\n",
       "<style scoped>\n",
       "    .dataframe tbody tr th:only-of-type {\n",
       "        vertical-align: middle;\n",
       "    }\n",
       "\n",
       "    .dataframe tbody tr th {\n",
       "        vertical-align: top;\n",
       "    }\n",
       "\n",
       "    .dataframe thead th {\n",
       "        text-align: right;\n",
       "    }\n",
       "</style>\n",
       "<table border=\"1\" class=\"dataframe\">\n",
       "  <thead>\n",
       "    <tr style=\"text-align: right;\">\n",
       "      <th></th>\n",
       "      <th>SAT</th>\n",
       "      <th>motivation</th>\n",
       "      <th>admission</th>\n",
       "    </tr>\n",
       "  </thead>\n",
       "  <tbody>\n",
       "    <tr>\n",
       "      <th>0</th>\n",
       "      <td>2.830560</td>\n",
       "      <td>-0.929661</td>\n",
       "      <td>True</td>\n",
       "    </tr>\n",
       "    <tr>\n",
       "      <th>48</th>\n",
       "      <td>0.737824</td>\n",
       "      <td>1.693103</td>\n",
       "      <td>True</td>\n",
       "    </tr>\n",
       "    <tr>\n",
       "      <th>50</th>\n",
       "      <td>1.643814</td>\n",
       "      <td>1.392957</td>\n",
       "      <td>True</td>\n",
       "    </tr>\n",
       "    <tr>\n",
       "      <th>53</th>\n",
       "      <td>0.654359</td>\n",
       "      <td>1.758119</td>\n",
       "      <td>True</td>\n",
       "    </tr>\n",
       "    <tr>\n",
       "      <th>56</th>\n",
       "      <td>1.467571</td>\n",
       "      <td>1.108425</td>\n",
       "      <td>True</td>\n",
       "    </tr>\n",
       "  </tbody>\n",
       "</table>\n",
       "</div>"
      ],
      "text/plain": [
       "         SAT  motivation  admission\n",
       "0   2.830560   -0.929661       True\n",
       "48  0.737824    1.693103       True\n",
       "50  1.643814    1.392957       True\n",
       "53  0.654359    1.758119       True\n",
       "56  1.467571    1.108425       True"
      ]
     },
     "execution_count": 11,
     "metadata": {},
     "output_type": "execute_result"
    }
   ],
   "source": [
    "df.query(\"admission == True\").head(5)\n",
    "\n",
    "# askes the columns of a df with a boolean variable"
   ]
  },
  {
   "cell_type": "code",
   "execution_count": 9,
   "metadata": {
    "slideshow": {
     "slide_type": "slide"
    }
   },
   "outputs": [
    {
     "name": "stderr",
     "output_type": "stream",
     "text": [
      "C:\\Users\\Jonathan\\anaconda3\\lib\\site-packages\\seaborn\\_decorators.py:36: FutureWarning: Pass the following variables as keyword args: x, y, data. From version 0.12, the only valid positional argument will be `data`, and passing other arguments without an explicit keyword will result in an error or misinterpretation.\n",
      "  warnings.warn(\n"
     ]
    },
    {
     "name": "stdout",
     "output_type": "stream",
     "text": [
      "The Pearson correlation coefficient is  -0.788\n"
     ]
    },
    {
     "data": {
      "image/png": "[encoded data removed]",
      "text/plain": [
       "<Figure size 432x432 with 3 Axes>"
      ]
     },
     "metadata": {
      "needs_background": "light"
     },
     "output_type": "display_data"
    }
   ],
   "source": [
    "get_joint_distribution(df.query(\"admission == True\"))"
   ]
  },
  {
   "cell_type": "markdown",
   "metadata": {},
   "source": [
    "From the Graph, we can clearly follow:\n",
    "* Conditioning on a collider variable that lies along a back-door path does not help to block the back-door path but instead creates new associations.\n",
    "* Here, it creates a strong negative correlation between motivation and SAT score"
   ]
  },
  {
   "cell_type": "markdown",
   "metadata": {},
   "source": [
    "### The back-door criterion"
   ]
  },
  {
   "cell_type": "markdown",
   "metadata": {
    "slideshow": {
     "slide_type": "slide"
    }
   },
   "source": [
    "The **back-door** criterion allows to determine to whether or not conditioning on a given set of observed variables (Z) will identify the causal effect of interest.  \n",
    "\n",
    "\n",
    "* **Step 1** Write down the back-door paths from the causal variable to the outcome variable, determine which ones are unblocked, and then search for a candidate conditioning set of observed variables that will block all unblocked back-door paths.\n",
    "\n",
    "* **Step 2** If a candidate conditioning set is found that blocks all back-door paths, inspect the patterns of decent in the graph in order to verify that the variables in the candidate conditioning set do not block or otherwise adjust away any portion of the causal effect of interest."
   ]
  },
  {
   "cell_type": "markdown",
   "metadata": {
    "slideshow": {
     "slide_type": "slide"
    }
   },
   "source": [
    "\n",
    "If one or more back-door paths connect the causal variable to the outcome variable, the causal effect is identified by conditioning on a set of variables $Z$ if \n",
    "\n",
    "**Condition 1:** All back-door paths between the causal variable and the outcome variable are blocked after conditioning on $Z$, which will always be the case if each back-door path\n",
    "\n",
    "* contains a chain of mediation $A\\rightarrow C \\rightarrow B$ where the middle variable $C$ is in $Z$ \n",
    "\n",
    "* contains a fork of mutual dependence $A \\leftarrow C \\rightarrow B$, where the middle variable $C$ is in $Z$\n",
    "\n",
    "* contains an inverted fork of mutual causation $A \\rightarrow C \\leftarrow B$, where the middle variable $C$ and all of $C$'s decendents are **not** in $Z$\n",
    "\n",
    "and ...\n",
    "\n"
   ]
  },
  {
   "cell_type": "markdown",
   "metadata": {
    "slideshow": {
     "slide_type": "slide"
    }
   },
   "source": [
    "**Condition 2:** No variables in $Z$ are decendents of the causal variable that lie on (or decend from other variables that lie on) any of the directed paths that begin at the causal variable and reach the outcome variable."
   ]
  },
  {
   "cell_type": "markdown",
   "metadata": {},
   "source": [
    "Let's revisit our example earlier:\n",
    "\n",
    "<img src=\"material/fig-backdoor-path.png\" width=\"300\" />\n",
    "\n",
    "\n",
    "Here we have a\n",
    "* chain of mediation between C -> O -> Y\n",
    "* fork of mutual dependence from the node C\n",
    "\n",
    "Here we could condition on C or on O\n"
   ]
  },
  {
   "cell_type": "markdown",
   "metadata": {
    "slideshow": {
     "slide_type": "slide"
    }
   },
   "source": [
    "We will now work through two more advanced examples where we focus on only the first conditions of the back-door criterion.\n",
    "\n",
    "* Let's start with a simple example and apply the idea of back-door identification to a graph where we consider conditioning on a lagged outcome variable $Y_{t -1}$."
   ]
  },
  {
   "cell_type": "markdown",
   "metadata": {
    "slideshow": {
     "slide_type": "slide"
    }
   },
   "source": [
    "<img src=\"material/fig-backdoor-example-1.png\" width=\"500\" />"
   ]
  },
  {
   "cell_type": "markdown",
   "metadata": {
    "slideshow": {
     "slide_type": "notes"
    }
   },
   "source": [
    "* $Y_{t - 1}$ lies on both back-door paths but it does not satisfy the back-door criterion. It blocks one path, but is a collider variable (inverted fork of mutual causation) on the other"
   ]
  },
  {
   "cell_type": "markdown",
   "metadata": {
    "slideshow": {
     "slide_type": "slide"
    }
   },
   "source": [
    "Let us practice our understanding for some interesting graph structures. The backdoor algorithm is also available [here](https://nbviewer.jupyter.org/github/HumanCapitalAnalysis/microeconometrics/blob/master/lectures/04_criteria_conditioning_estimators/back_door_algorithm.ipynb) for your reference."
   ]
  },
  {
   "cell_type": "markdown",
   "metadata": {
    "slideshow": {
     "slide_type": "slide"
    }
   },
   "source": [
    "Here are a couple of candidates conditioning sets.\n",
    "\n",
    "* $\\{F\\}$\n",
    "* This will work, since it is a node in a chain of mediation\n",
    "* $\\{A\\}$\n",
    "* Does not work! Since A is a inverted fork of mutual causation\n",
    "* $\\{A, B\\}$\n",
    "* Does work! Since we are using A as an node of a chain of mediation between V and D and B also as the node between U and D\n",
    "\n",
    "<img src=\"material/fig-backdoor-example-2.png\" width=\"500\" />"
   ]
  },
  {
   "cell_type": "markdown",
   "metadata": {
    "slideshow": {
     "slide_type": "slide"
    }
   },
   "source": [
    "Finally, let's focus on the second condition.\n",
    "\n",
    "* **Condition 2:** No variables in $Z$ are decendents of the causal variable that lie on (or decend from other variables that lie on) any of the directed paths that begin at the causal variable and reach the outcome variable."
   ]
  },
  {
   "cell_type": "markdown",
   "metadata": {
    "slideshow": {
     "slide_type": "slide"
    }
   },
   "source": [
    "We first look at a graph that illustrates what a descendent is and remind ourselves of the difference between a direct and an indirect effect.\n",
    "\n",
    "<img src=\"material/fig-backdoor-indirect-effect.png\" width=\"300\" />\n",
    "\n",
    "Conditioning on $N$ (in addition to either $N$ or $O$) does not satisfy the back-door criterion due to its violation of the second condition."
   ]
  },
  {
   "cell_type": "markdown",
   "metadata": {
    "slideshow": {
     "slide_type": "slide"
    }
   },
   "source": [
    "Let's evaluate the following conditioning set: $\\{O, B\\}$.\n",
    "\n",
    "<img src=\"material/fig-backdoor-condition-2.png\" width=\"300\" />"
   ]
  },
  {
   "cell_type": "markdown",
   "metadata": {},
   "source": [
    "We can also build our own causal graphs using http://www.dagitty.net!"
   ]
  },
  {
   "cell_type": "markdown",
   "metadata": {
    "slideshow": {
     "slide_type": "slide"
    }
   },
   "source": [
    "### Models of causal exposure and point identification based on potential outcome model"
   ]
  },
  {
   "cell_type": "markdown",
   "metadata": {
    "slideshow": {
     "slide_type": "slide"
    }
   },
   "source": [
    "#### Treatment assignment modeling in statistics\n",
    "\n",
    "Treatment assignment patterns are represented by a general conditional probability distribution often referred to as propensity scores:\n",
    "\n",
    "The propensity score is the probability of treatment assignment conditional on observed baseline characteristics. The propensity score allows one to design and analyze an observational (nonrandomized) study so that it mimics some of the particular characteristics of a randomized controlled trial.\n",
    "\n",
    "\\begin{align*}\n",
    "\\Pr[D = 1 \\mid S], \n",
    "\\end{align*}\n",
    "\n",
    "where $S$ denotes all variables that systematically determine treatment assignment (baseline characteristics).\n",
    "\n",
    "* In the case of a randomized experiment we know the propensity score, while we have to estimate it in observational studies.\n",
    "\n",
    "\n",
    "If all variables in $S$ are observed, then treatment assignment is ignorable\n",
    "\\begin{align*}\n",
    "(Y^0, Y^1) \\perp \\!\\!\\! \\perp D \\mid S \n",
    "\\end{align*}\n",
    "\n",
    "Within the strata(=Schichten) defined by $S$, the remaining variation in $D$ is random  and hence the process that generates these remaining variations is ignorable.\n",
    "\n",
    "**Strategy to ensure ignorable treatment assignment**\n",
    "\n",
    "* determine from related studies and supportable assumptions grounded in theory what the components of $S$ are\n",
    "\n",
    "* measure each of the components in $S$\n",
    "\n",
    "* collect enough data to be able to considerably estimate outcome differences on the observed variable $Y$ within strata defined by $S$\n",
    "\n",
    "<img src=\"material/fig-assignment-statistics.png\" width=\"500\" />"
   ]
  },
  {
   "cell_type": "markdown",
   "metadata": {},
   "source": [
    "#### Treatment selection modeling in econometrics"
   ]
  },
  {
   "cell_type": "markdown",
   "metadata": {
    "slideshow": {
     "slide_type": "slide"
    }
   },
   "source": [
    "\\begin{align*}\n",
    "Y & = D Y^1 + (1 - D) Y^0 \\\\\n",
    "& = Y^0 + D(Y^1 - Y^0) \\\\\n",
    "& = Y^0 + \\delta D \\\\\n",
    "& = \\mu^0 + \\delta D + \\nu^0,\n",
    "\\end{align*}\n",
    "\n",
    "where $\\mu^0 \\equiv E[Y^0]$ and $\\nu^0 \\equiv Y^0 - E[Y^0]$.\n",
    "\n",
    "Let's emphasize potential treatment effect heterogeneity:\n",
    "\n",
    "\\begin{align*}\n",
    "Y = \\mu^0 + ( \\mu^1 - \\mu^0) D + \\{\\nu^0 + D(\\nu^1 - \\nu^0)\\}\n",
    "\\end{align*}\n",
    "where $\\mu^1 \\equiv E[Y^1]$ and $\\nu^1 \\equiv Y^1 - E[Y^1]$.\n",
    "\n",
    "Let's introduce a latent variable to be more precise about the \n",
    "\n",
    "\\begin{align*}\n",
    "\\tilde{D} = Z\\phi + U, \n",
    "\\end{align*}\n",
    "\n",
    "where $U$ contains systematic unobserved determinants of treatment selection and completely random components.\n",
    "\n",
    "The latent continuous variable $D$ is then related to our treatment selection dummy as follows.\n",
    "\n",
    "\\begin{align*}\n",
    "D = \\begin{cases}\n",
    "1 & \\quad\\text{if}\\quad \\tilde{D} > 0 \\\\\n",
    "0 & \\quad\\text{otherwise}\n",
    "\\end{cases}\n",
    "\\end{align*}\n",
    "\n",
    "\n",
    "**Selection on observables and unobservables**\n",
    "\n",
    "<img src=\"material/fig-assignment-econometrics.png\" width=\"500\" />\n",
    "\n",
    "Link to the literature on treatment assignment in statistics:\n",
    "\n",
    "* $Z$ equals $S$  $\\rightarrow$ selection on observables\n",
    "* $Z$ is only a subset of $S$ $\\rightarrow$ selection on unobservables"
   ]
  }
 ],
 "metadata": {
  "celltoolbar": "Slideshow",
  "kernelspec": {
   "display_name": "Python 3",
   "language": "python",
   "name": "python3"
  },
  "language_info": {
   "codemirror_mode": {
    "name": "ipython",
    "version": 3
   },
   "file_extension": ".py",
   "mimetype": "text/x-python",
   "name": "python",
   "nbconvert_exporter": "python",
   "pygments_lexer": "ipython3",
   "version": "3.8.5"
  },
  "pycharm": {
   "stem_cell": {
    "cell_type": "raw",
    "metadata": {
     "collapsed": false
    },
    "source": []
   }
  },
  "varInspector": {
   "cols": {
    "lenName": 16,
    "lenType": 16,
    "lenVar": 40
   },
   "kernels_config": {
    "python": {
     "delete_cmd_postfix": "",
     "delete_cmd_prefix": "del ",
     "library": "var_list.py",
     "varRefreshCmd": "print(var_dic_list())"
    },
    "r": {
     "delete_cmd_postfix": ") ",
     "delete_cmd_prefix": "rm(",
     "library": "var_list.r",
     "varRefreshCmd": "cat(var_dic_list()) "
    }
   },
   "types_to_exclude": [
    "module",
    "function",
    "builtin_function_or_method",
    "instance",
    "_Feature"
   ],
   "window_display": false
  }
 },
 "nbformat": 4,
 "nbformat_minor": 4
}
